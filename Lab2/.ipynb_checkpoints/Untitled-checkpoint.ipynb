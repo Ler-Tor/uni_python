{
 "cells": [
  {
   "cell_type": "code",
   "execution_count": 1,
   "metadata": {},
   "outputs": [
    {
     "data": {
      "text/plain": [
       "6"
      ]
     },
     "execution_count": 1,
     "metadata": {},
     "output_type": "execute_result"
    }
   ],
   "source": [
    "12 // 2\n"
   ]
  },
  {
   "cell_type": "code",
   "execution_count": 11,
   "metadata": {},
   "outputs": [
    {
     "name": "stdout",
     "output_type": "stream",
     "text": [
      "['1', '1', '1', '1111', '2', '2', '3', '32', '333', '4', '4', '44']\n",
      "11.5\n"
     ]
    }
   ],
   "source": [
    "int (numList = ['1', '4', '2', '1', '32', '4', '3', '1111', '44', '2', '333', '1'])\n",
    "\n",
    "numList = sorted(numList)\n",
    "print(numList)\n",
    "if len(numList)%2 == 1:\n",
    "    print(numList[len(numList) // 2])\n",
    "else:\n",
    "    print(0.5 * float((numList[len(numList) // 2 - 1] + numList[len(numList) // 2])))"
   ]
  },
  {
   "cell_type": "code",
   "execution_count": null,
   "metadata": {},
   "outputs": [],
   "source": []
  },
  {
   "cell_type": "code",
   "execution_count": null,
   "metadata": {},
   "outputs": [],
   "source": []
  }
 ],
 "metadata": {
  "kernelspec": {
   "display_name": "Python 3",
   "language": "python",
   "name": "python3"
  },
  "language_info": {
   "codemirror_mode": {
    "name": "ipython",
    "version": 3
   },
   "file_extension": ".py",
   "mimetype": "text/x-python",
   "name": "python",
   "nbconvert_exporter": "python",
   "pygments_lexer": "ipython3",
   "version": "3.7.0"
  }
 },
 "nbformat": 4,
 "nbformat_minor": 2
}
